{
 "cells": [
  {
   "cell_type": "markdown",
   "metadata": {},
   "source": [
    "# Resumen 1\n",
    "\n",
    "[Why Python is so popular with developers: 3 reasons the language has exploded](https://www.techrepublic.com/article/why-python-is-so-popular-with-developers-3-reasons-the-language-has-exploded/)\n",
    "\n",
    "*Python* es un lenguaje con el crecimiento más rápido del mundo, es muy popular por sus grandes librerías; lo que lo hace dinámico y rápido. \n",
    "\n",
    "La tasa de crecimiento se está expandiendo en cada rubro mundial, ligada a el entendimiento de negocios que utiliza datos para tomar mejores decisiones y ayudar al negocio.\n",
    "\n",
    "Existen tres razones por las que Python domina actualmente:\n",
    "\n",
    "1. **Facilidad de aprendizaje**\n",
    "   Python es considerado el lenguaje más fácil de aprender por su sintaxis simple y su fiabilidad. Tiene muchos detalles por los que no es necesario preocuparse como en otros lenguajes de programación.\n",
    "\n",
    "2. **La explosión de IA, machine learning, y ciencia de datos en la empresa**\n",
    "   *Python* ha demostrado ser muy útil en personas que se dedican a la inteligencia artificial y al aprendizaje de máquinas. Puedes hacer casi cualquier cosa.\n",
    "   \n",
    "3. **Una comunidad de desarrollo grande**\n",
    "   *Python* es usado en un gran número de aplicaciones desde IA, videojuegos, hasta herramientas de productividad. tiene una comunidad sana y amigable alrededor de él, incluso para aquellos que no saben mucho de tecnología.\n",
    "   La flexibilidad del lenguaje tiene algunas desventajas, pero cualquiera con problemas en código puede rápidamente encontrar una solución al preguntar en el sitio de la comunidad de *Python*"
   ]
  },
  {
   "cell_type": "markdown",
   "metadata": {},
   "source": [
    "# Resumen 2\n",
    "\n",
    "[Python has brought computer programming to a vast new audience](https://www.economist.com/science-and-technology/2018/07/19/python-has-brought-computer-programming-to-a-vast-new-audience)\n",
    "\n",
    "En diciembre de 1989, *Guido van Rossum* decidió construir un lenguaje de programación propio. Sería fácil de leer, debería permitir a los usuarios crear su paquetes con módulos de código con propósito especial y, tercero, quería un nombre corto, único y misterioso. Así nació *Python*.\n",
    "\n",
    "Casi treinta años después, el lenguaje es consumido por grandes masas de usuarios, siendo más buscado en la Internet que Kim Kardashian. Ahora, *van Rossum* es considerado un ídolo.\n",
    "\n",
    "*Python* no es perfecto, no tiene la eficiencia de procesamiento y capacidades especiales que C y C++, el poder de construir complejas aplicaciones de Java, ni la capacidad de crear aplicaciones accesadas desde la web de JavaScript. Sin embargo, ha sido utilizado por la CIA para hacking y por Pixar para sus películas.\n",
    "\n",
    "Existen paquetes de programación creados por los mismos usuarios *Pythonistas* que han enriquecido el lenguaje mismo, lo que ha permitido el gran crecimiento y expansión en las aplicaciones, usos, usuarios y popularidad del lenguaje.\n",
    "\n"
   ]
  },
  {
   "cell_type": "code",
   "execution_count": null,
   "metadata": {},
   "outputs": [],
   "source": []
  }
 ],
 "metadata": {
  "kernelspec": {
   "display_name": "Python 3",
   "language": "python",
   "name": "python3"
  },
  "language_info": {
   "codemirror_mode": {
    "name": "ipython",
    "version": 3
   },
   "file_extension": ".py",
   "mimetype": "text/x-python",
   "name": "python",
   "nbconvert_exporter": "python",
   "pygments_lexer": "ipython3",
   "version": "3.7.3"
  }
 },
 "nbformat": 4,
 "nbformat_minor": 2
}
